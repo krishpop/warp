{
 "cells": [
  {
   "cell_type": "code",
   "execution_count": null,
   "id": "4e184d80-4221-449e-83a0-baa5733f21c0",
   "metadata": {},
   "outputs": [],
   "source": [
    "%pdb on"
   ]
  },
  {
   "cell_type": "code",
   "execution_count": null,
   "id": "66f7b8aa-d0e8-4b24-8391-f1c7d8cfdb42",
   "metadata": {},
   "outputs": [],
   "source": [
    "%load_ext autoreload\n",
    "%autoreload 2"
   ]
  },
  {
   "cell_type": "code",
   "execution_count": 1,
   "id": "1fd22237-39e1-49be-935c-c3ed815ff047",
   "metadata": {},
   "outputs": [
    {
     "name": "stdout",
     "output_type": "stream",
     "text": [
      "Warp 0.7.2 initialized:\n",
      "   CUDA Toolkit: 11.8, Driver: 11.8\n",
      "   Devices:\n",
      "     \"cpu\"    | x86_64\n",
      "     \"cuda:0\" | NVIDIA GeForce RTX 3090 (sm_86)\n",
      "   Kernel cache: /home/ksrini/.cache/warp/0.7.2\n",
      "Using cached kernels\n"
     ]
    }
   ],
   "source": [
    "%matplotlib widget\n",
    "import matplotlib.pyplot as plt\n",
    "\n",
    "import torch\n",
    "import numpy as np\n",
    "\n",
    "import warp as wp\n",
    "import time\n",
    "import imageio\n",
    "# wp.config.mode = \"debug\"\n",
    "# wp.config.verify_cuda = True\n",
    "import seaborn as sns\n",
    "\n",
    "wp.init()\n",
    "from warp.envs.environment import RenderMode\n",
    "from warp.envs.cartpole_swing_up import CartPoleSwingUpEnv\n",
    "from warp.envs.hopper import HopperEnv\n",
    "from shac.envs.hopper import HopperEnv as DFHopperEnv"
   ]
  },
  {
   "cell_type": "code",
   "execution_count": 2,
   "id": "30641856-fd2a-471b-90f8-c651383311e9",
   "metadata": {},
   "outputs": [
    {
     "name": "stdout",
     "output_type": "stream",
     "text": [
      "Running with stochastic_init:  False\n"
     ]
    },
    {
     "name": "stderr",
     "output_type": "stream",
     "text": [
      "/home/ksrini/.pyenv/versions/miniconda3-latest/envs/shac/lib/python3.8/site-packages/gym/logger.py:30: UserWarning: \u001b[33mWARN: Box bound precision lowered by casting to float32\u001b[0m\n",
      "  warnings.warn(colorize('%s: %s'%('WARN', msg % args), 'yellow'))\n"
     ]
    },
    {
     "name": "stdout",
     "output_type": "stream",
     "text": [
      "Module warp.sim.collide load on device 'cuda:0' took 66.54 ms\n",
      "Initializing renderer writing to path: outputs/HopperEnv_2\n"
     ]
    }
   ],
   "source": [
    "env = HopperEnv(num_envs = 2, render=True)"
   ]
  },
  {
   "cell_type": "code",
   "execution_count": null,
   "id": "8fa7cc28-a805-4871-81e7-b82b9f856e01",
   "metadata": {},
   "outputs": [],
   "source": [
    "env = CartPoleSwingUpEnv(num_envs=2, render=False)"
   ]
  },
  {
   "cell_type": "code",
   "execution_count": 3,
   "id": "fcad143e-abfc-48de-9f37-3ac4b105eb9a",
   "metadata": {},
   "outputs": [
    {
     "name": "stdout",
     "output_type": "stream",
     "text": [
      "Running with stochastic_init:  False\n",
      "Module warp.sim.articulation load on device 'cuda:0' took 24.07 ms\n",
      "Module warp.render.utils load on device 'cuda:0' took 2.83 ms\n",
      "Module warp.sim.inertia load on device 'cuda:0' took 6.01 ms\n",
      "Module warp.sim.model load on device 'cuda:0' took 0.22 ms\n",
      "Module warp.sim.optimizer load on device 'cuda:0' took 0.78 ms\n",
      "Module warp.sim.particles load on device 'cuda:0' took 2.20 ms\n",
      "Module warp.sim.utils load on device 'cuda:0' took 7.33 ms\n",
      "Module warp.sim.integrator_euler load on device 'cuda:0' took 49.39 ms\n",
      "Module warp.sim.integrator_xpbd load on device 'cuda:0' took 71.04 ms\n",
      "Module warp.render.render_tiny load on device 'cuda:0' took 6.44 ms\n",
      "Module warp.sim.render load on device 'cuda:0' took 0.90 ms\n",
      "Module warp.sim.tiny_render load on device 'cuda:0' took 1.15 ms\n",
      "Module warp.envs.autograd_utils load on device 'cuda:0' took 0.41 ms\n",
      "Module warp.optim.adam load on device 'cuda:0' took 3.07 ms\n",
      "Module dmanip.utils.warp_utils load on device 'cuda:0' took 35.22 ms\n",
      "Module utils.warp_utils load on device 'cuda:0' took 3.58 ms\n"
     ]
    },
    {
     "name": "stderr",
     "output_type": "stream",
     "text": [
      "100%|███████████████████████████████████████████████████████████████████████████████████████████████████████████████████████████████████████████████████████████████| 900/900 [00:01<00:00, 875.56it/s]\n"
     ]
    },
    {
     "name": "stdout",
     "output_type": "stream",
     "text": [
      "envs: 2 steps/second 1623.018876566213 avg_time 1.2322715581912134\n",
      "Running with stochastic_init:  False\n"
     ]
    },
    {
     "name": "stderr",
     "output_type": "stream",
     "text": [
      "100%|██████████████████████████████████████████████████████████████████████████████████████████████████████████████████████████████████████████████████████████████| 900/900 [00:00<00:00, 1005.63it/s]\n"
     ]
    },
    {
     "name": "stdout",
     "output_type": "stream",
     "text": [
      "envs: 4 steps/second 3708.759300910924 avg_time 1.0785277974274423\n",
      "Running with stochastic_init:  False\n"
     ]
    },
    {
     "name": "stderr",
     "output_type": "stream",
     "text": [
      "100%|███████████████████████████████████████████████████████████████████████████████████████████████████████████████████████████████████████████████████████████████| 900/900 [00:00<00:00, 900.02it/s]\n"
     ]
    },
    {
     "name": "stdout",
     "output_type": "stream",
     "text": [
      "envs: 8 steps/second 6674.350919060306 avg_time 1.1986184270224638\n",
      "Running with stochastic_init:  False\n"
     ]
    },
    {
     "name": "stderr",
     "output_type": "stream",
     "text": [
      "100%|██████████████████████████████████████████████████████████████████████████████████████████████████████████████████████████████████████████████████████████████| 900/900 [00:00<00:00, 1027.59it/s]\n"
     ]
    },
    {
     "name": "stdout",
     "output_type": "stream",
     "text": [
      "envs: 16 steps/second 15071.800393614829 avg_time 1.0615851843936577\n",
      "Running with stochastic_init:  False\n"
     ]
    },
    {
     "name": "stderr",
     "output_type": "stream",
     "text": [
      "100%|███████████████████████████████████████████████████████████████████████████████████████████████████████████████████████████████████████████████████████████████| 900/900 [00:01<00:00, 854.45it/s]\n"
     ]
    },
    {
     "name": "stdout",
     "output_type": "stream",
     "text": [
      "envs: 32 steps/second 25332.982949941157 avg_time 1.2631753656185336\n",
      "Running with stochastic_init:  False\n"
     ]
    },
    {
     "name": "stderr",
     "output_type": "stream",
     "text": [
      "100%|███████████████████████████████████████████████████████████████████████████████████████████████████████████████████████████████████████████████████████████████| 900/900 [00:00<00:00, 960.23it/s]\n"
     ]
    },
    {
     "name": "stdout",
     "output_type": "stream",
     "text": [
      "envs: 64 steps/second 58144.78031593315 avg_time 1.100700693204999\n",
      "Running with stochastic_init:  False\n"
     ]
    },
    {
     "name": "stderr",
     "output_type": "stream",
     "text": [
      "100%|███████████████████████████████████████████████████████████████████████████████████████████████████████████████████████████████████████████████████████████████| 900/900 [00:01<00:00, 898.78it/s]\n"
     ]
    },
    {
     "name": "stdout",
     "output_type": "stream",
     "text": [
      "envs: 128 steps/second 106642.02082150531 avg_time 1.2002773298364546\n",
      "Running with stochastic_init:  False\n"
     ]
    },
    {
     "name": "stderr",
     "output_type": "stream",
     "text": [
      "100%|███████████████████████████████████████████████████████████████████████████████████████████████████████████████████████████████████████████████████████████████| 900/900 [00:00<00:00, 907.89it/s]\n"
     ]
    },
    {
     "name": "stdout",
     "output_type": "stream",
     "text": [
      "envs: 256 steps/second 215404.09000271908 avg_time 1.188463970190949\n",
      "Running with stochastic_init:  False\n"
     ]
    },
    {
     "name": "stderr",
     "output_type": "stream",
     "text": [
      "100%|███████████████████████████████████████████████████████████████████████████████████████████████████████████████████████████████████████████████████████████████| 900/900 [00:01<00:00, 882.05it/s]\n"
     ]
    },
    {
     "name": "stdout",
     "output_type": "stream",
     "text": [
      "envs: 512 steps/second 419279.5037289184 avg_time 1.221142449002299\n",
      "Running with stochastic_init:  False\n"
     ]
    },
    {
     "ename": "KeyboardInterrupt",
     "evalue": "",
     "output_type": "error",
     "traceback": [
      "\u001b[0;31m---------------------------------------------------------------------------\u001b[0m",
      "\u001b[0;31mKeyboardInterrupt\u001b[0m                         Traceback (most recent call last)",
      "Input \u001b[0;32mIn [3]\u001b[0m, in \u001b[0;36m<cell line: 5>\u001b[0;34m()\u001b[0m\n\u001b[1;32m      3\u001b[0m env_size \u001b[38;5;241m=\u001b[39m []\n\u001b[1;32m      5\u001b[0m \u001b[38;5;28;01mfor\u001b[39;00m i \u001b[38;5;129;01min\u001b[39;00m \u001b[38;5;28mrange\u001b[39m(\u001b[38;5;241m15\u001b[39m):\n\u001b[0;32m----> 7\u001b[0m     robot \u001b[38;5;241m=\u001b[39m \u001b[43mHopperEnv\u001b[49m\u001b[43m(\u001b[49m\u001b[43mnum_envs\u001b[49m\u001b[38;5;241;43m=\u001b[39;49m\u001b[43menv_count\u001b[49m\u001b[43m,\u001b[49m\u001b[43m \u001b[49m\u001b[43mrender\u001b[49m\u001b[38;5;241;43m=\u001b[39;49m\u001b[38;5;28;43;01mFalse\u001b[39;49;00m\u001b[43m)\u001b[49m\n\u001b[1;32m      8\u001b[0m     steps_per_second \u001b[38;5;241m=\u001b[39m robot\u001b[38;5;241m.\u001b[39mrun()\n\u001b[1;32m     10\u001b[0m     env_size\u001b[38;5;241m.\u001b[39mappend(env_count)\n",
      "File \u001b[0;32m~/diff_manip/external/warp/warp/envs/hopper.py:32\u001b[0m, in \u001b[0;36mHopperEnv.__init__\u001b[0;34m(self, render, device, num_envs, seed, episode_length, no_grad, stochastic_init, stage_path, env_name)\u001b[0m\n\u001b[1;32m     27\u001b[0m \u001b[38;5;28mself\u001b[39m\u001b[38;5;241m.\u001b[39mnum_joint_qd \u001b[38;5;241m=\u001b[39m \u001b[38;5;241m6\u001b[39m\n\u001b[1;32m     29\u001b[0m \u001b[38;5;28msuper\u001b[39m()\u001b[38;5;241m.\u001b[39m\u001b[38;5;21m__init__\u001b[39m(num_envs, num_obs, num_act, episode_length, seed, no_grad,\n\u001b[1;32m     30\u001b[0m         render, stochastic_init, device,\n\u001b[1;32m     31\u001b[0m         render_mode\u001b[38;5;241m=\u001b[39m\u001b[38;5;28mself\u001b[39m\u001b[38;5;241m.\u001b[39mrender_mode, env_name\u001b[38;5;241m=\u001b[39menv_name, stage_path\u001b[38;5;241m=\u001b[39mstage_path,)\n\u001b[0;32m---> 32\u001b[0m \u001b[38;5;28;43mself\u001b[39;49m\u001b[38;5;241;43m.\u001b[39;49m\u001b[43minit_sim\u001b[49m\u001b[43m(\u001b[49m\u001b[43m)\u001b[49m\n\u001b[1;32m     33\u001b[0m \u001b[38;5;28mself\u001b[39m\u001b[38;5;241m.\u001b[39mstart_joint_q[:, :\u001b[38;5;241m3\u001b[39m] \u001b[38;5;241m*\u001b[39m\u001b[38;5;241m=\u001b[39m \u001b[38;5;241m0.\u001b[39m\n\u001b[1;32m     34\u001b[0m \u001b[38;5;28mself\u001b[39m\u001b[38;5;241m.\u001b[39mstart_pos \u001b[38;5;241m=\u001b[39m \u001b[38;5;28mself\u001b[39m\u001b[38;5;241m.\u001b[39mstart_joint_q[:, :\u001b[38;5;241m2\u001b[39m]\n",
      "File \u001b[0;32m~/diff_manip/external/warp/warp/envs/warp_env.py:169\u001b[0m, in \u001b[0;36mWarpEnv.init_sim\u001b[0;34m(self)\u001b[0m\n\u001b[1;32m    168\u001b[0m \u001b[38;5;28;01mdef\u001b[39;00m \u001b[38;5;21minit_sim\u001b[39m(\u001b[38;5;28mself\u001b[39m):\n\u001b[0;32m--> 169\u001b[0m     \u001b[38;5;28;43mself\u001b[39;49m\u001b[38;5;241;43m.\u001b[39;49m\u001b[43minit\u001b[49m\u001b[43m(\u001b[49m\u001b[43m)\u001b[49m\n\u001b[1;32m    170\u001b[0m     \u001b[38;5;28;01mif\u001b[39;00m \u001b[38;5;28mself\u001b[39m\u001b[38;5;241m.\u001b[39mvisualize:\n\u001b[1;32m    171\u001b[0m         \u001b[38;5;28mself\u001b[39m\u001b[38;5;241m.\u001b[39minitialize_renderer()\n",
      "File \u001b[0;32m~/diff_manip/external/warp/warp/envs/environment.py:144\u001b[0m, in \u001b[0;36mEnvironment.init\u001b[0;34m(self)\u001b[0m\n\u001b[1;32m    142\u001b[0m                 quat_rotate \u001b[38;5;241m=\u001b[39m wp\u001b[38;5;241m.\u001b[39mquat_from_axis_angle((\u001b[38;5;241m1.0\u001b[39m, \u001b[38;5;241m0.0\u001b[39m, \u001b[38;5;241m0.0\u001b[39m), \u001b[38;5;241m-\u001b[39mmath\u001b[38;5;241m.\u001b[39mpi\u001b[38;5;241m*\u001b[39m\u001b[38;5;241m0.5\u001b[39m)\n\u001b[1;32m    143\u001b[0m             xform \u001b[38;5;241m=\u001b[39m wp\u001b[38;5;241m.\u001b[39mtransform(env_offsets[i], quat_rotate)\n\u001b[0;32m--> 144\u001b[0m         \u001b[38;5;28;43mself\u001b[39;49m\u001b[38;5;241;43m.\u001b[39;49m\u001b[43mbuilder\u001b[49m\u001b[38;5;241;43m.\u001b[39;49m\u001b[43madd_builder\u001b[49m\u001b[43m(\u001b[49m\u001b[43marticulation_builder\u001b[49m\u001b[43m,\u001b[49m\u001b[43m \u001b[49m\u001b[43mxform\u001b[49m\u001b[43m)\u001b[49m\n\u001b[1;32m    145\u001b[0m     \u001b[38;5;28mself\u001b[39m\u001b[38;5;241m.\u001b[39mbodies_per_env \u001b[38;5;241m=\u001b[39m \u001b[38;5;28mlen\u001b[39m(articulation_builder\u001b[38;5;241m.\u001b[39mbody_q)\n\u001b[1;32m    146\u001b[0m \u001b[38;5;28;01mexcept\u001b[39;00m \u001b[38;5;167;01mNotImplementedError\u001b[39;00m:\n\u001b[1;32m    147\u001b[0m     \u001b[38;5;66;03m# custom simulation setup where something other than an articulation is used\u001b[39;00m\n",
      "File \u001b[0;32m~/diff_manip/external/warp/warp/sim/model.py:1049\u001b[0m, in \u001b[0;36mModelBuilder.add_builder\u001b[0;34m(self, articulation, xform, update_num_env_count, separate_collision_group)\u001b[0m\n\u001b[1;32m   1047\u001b[0m             joint_q[qi\u001b[38;5;241m+\u001b[39m\u001b[38;5;241m3\u001b[39m:qi\u001b[38;5;241m+\u001b[39m\u001b[38;5;241m7\u001b[39m] \u001b[38;5;241m=\u001b[39m tf\u001b[38;5;241m.\u001b[39mq\n\u001b[1;32m   1048\u001b[0m         \u001b[38;5;28;01melif\u001b[39;00m articulation\u001b[38;5;241m.\u001b[39mjoint_parent[i] \u001b[38;5;241m==\u001b[39m \u001b[38;5;241m-\u001b[39m\u001b[38;5;241m1\u001b[39m:\n\u001b[0;32m-> 1049\u001b[0m             joint_X_p[i] \u001b[38;5;241m=\u001b[39m \u001b[43mxform\u001b[49m\u001b[43m \u001b[49m\u001b[38;5;241;43m*\u001b[39;49m\u001b[43m \u001b[49m\u001b[43mjoint_X_p\u001b[49m\u001b[43m[\u001b[49m\u001b[43mi\u001b[49m\u001b[43m]\u001b[49m\n\u001b[1;32m   1050\u001b[0m \u001b[38;5;28mself\u001b[39m\u001b[38;5;241m.\u001b[39mjoint_X_p\u001b[38;5;241m.\u001b[39mextend(joint_X_p)\n\u001b[1;32m   1051\u001b[0m \u001b[38;5;28mself\u001b[39m\u001b[38;5;241m.\u001b[39mjoint_q\u001b[38;5;241m.\u001b[39mextend(joint_q)\n",
      "File \u001b[0;32m~/diff_manip/external/warp/warp/types.py:104\u001b[0m, in \u001b[0;36mvector.<locals>.vector_t.__mul__\u001b[0;34m(self, y)\u001b[0m\n\u001b[1;32m    103\u001b[0m \u001b[38;5;28;01mdef\u001b[39;00m \u001b[38;5;21m__mul__\u001b[39m(\u001b[38;5;28mself\u001b[39m, y):\n\u001b[0;32m--> 104\u001b[0m     \u001b[38;5;28;01mreturn\u001b[39;00m \u001b[43mwarp\u001b[49m\u001b[38;5;241;43m.\u001b[39;49m\u001b[43mmul\u001b[49m\u001b[43m(\u001b[49m\u001b[38;5;28;43mself\u001b[39;49m\u001b[43m,\u001b[49m\u001b[43m \u001b[49m\u001b[43my\u001b[49m\u001b[43m)\u001b[49m\n",
      "File \u001b[0;32m~/diff_manip/external/warp/warp/context.py:154\u001b[0m, in \u001b[0;36mFunction.__call__\u001b[0;34m(self, *args, **kwargs)\u001b[0m\n\u001b[1;32m    149\u001b[0m \u001b[38;5;66;03m# try to convert to a value type (vec3, mat33, etc)\u001b[39;00m\n\u001b[1;32m    150\u001b[0m \u001b[38;5;28;01mif\u001b[39;00m \u001b[38;5;28missubclass\u001b[39m(arg_type, ctypes\u001b[38;5;241m.\u001b[39mArray):\n\u001b[1;32m    151\u001b[0m \n\u001b[1;32m    152\u001b[0m     \u001b[38;5;66;03m# wrap the arg_type (which is an ctypes.Array) in a structure\u001b[39;00m\n\u001b[1;32m    153\u001b[0m     \u001b[38;5;66;03m# to ensure parameter is passed to the .dll by value rather than reference\u001b[39;00m\n\u001b[0;32m--> 154\u001b[0m     \u001b[38;5;28;01mclass\u001b[39;00m \u001b[38;5;21;01mValueArg\u001b[39;00m(ctypes\u001b[38;5;241m.\u001b[39mStructure):\n\u001b[1;32m    155\u001b[0m         _fields_ \u001b[38;5;241m=\u001b[39m [ (\u001b[38;5;124m'\u001b[39m\u001b[38;5;124mvalue\u001b[39m\u001b[38;5;124m'\u001b[39m, arg_type)]\n\u001b[1;32m    157\u001b[0m     x \u001b[38;5;241m=\u001b[39m ValueArg()\n",
      "File \u001b[0;32m~/diff_manip/external/warp/warp/context.py:154\u001b[0m, in \u001b[0;36mFunction.__call__.<locals>.ValueArg\u001b[0;34m()\u001b[0m\n\u001b[1;32m    149\u001b[0m \u001b[38;5;66;03m# try to convert to a value type (vec3, mat33, etc)\u001b[39;00m\n\u001b[1;32m    150\u001b[0m \u001b[38;5;28;01mif\u001b[39;00m \u001b[38;5;28missubclass\u001b[39m(arg_type, ctypes\u001b[38;5;241m.\u001b[39mArray):\n\u001b[1;32m    151\u001b[0m \n\u001b[1;32m    152\u001b[0m     \u001b[38;5;66;03m# wrap the arg_type (which is an ctypes.Array) in a structure\u001b[39;00m\n\u001b[1;32m    153\u001b[0m     \u001b[38;5;66;03m# to ensure parameter is passed to the .dll by value rather than reference\u001b[39;00m\n\u001b[0;32m--> 154\u001b[0m     \u001b[38;5;28;01mclass\u001b[39;00m \u001b[38;5;21;01mValueArg\u001b[39;00m(ctypes\u001b[38;5;241m.\u001b[39mStructure):\n\u001b[1;32m    155\u001b[0m         _fields_ \u001b[38;5;241m=\u001b[39m [ (\u001b[38;5;124m'\u001b[39m\u001b[38;5;124mvalue\u001b[39m\u001b[38;5;124m'\u001b[39m, arg_type)]\n\u001b[1;32m    157\u001b[0m     x \u001b[38;5;241m=\u001b[39m ValueArg()\n",
      "\u001b[0;31mKeyboardInterrupt\u001b[0m: "
     ]
    }
   ],
   "source": [
    "env_count = 2\n",
    "env_times = []\n",
    "env_size = []\n",
    "\n",
    "for i in range(15):\n",
    "\n",
    "    robot = HopperEnv(num_envs=env_count, render=False)\n",
    "    steps_per_second = robot.run()\n",
    "\n",
    "    env_size.append(env_count)\n",
    "    env_times.append(steps_per_second)\n",
    "\n",
    "    env_count *= 2\n",
    "\n",
    "# dump times\n",
    "for i in range(len(env_times)):\n",
    "    print(f\"envs: {env_size[i]} steps/second: {env_times[i]}\")\n",
    "\n",
    "plt.figure(1)\n",
    "plt.plot(env_size, env_times)\n",
    "plt.xscale('log')\n",
    "plt.xlabel(\"Number of Envs\")\n",
    "plt.yscale('log')\n",
    "plt.ylabel(\"Steps/Second\")\n",
    "plt.show()"
   ]
  },
  {
   "cell_type": "code",
   "execution_count": null,
   "id": "408c71cb-3fdb-40aa-a1d4-ab4c1ccc9fcc",
   "metadata": {},
   "outputs": [],
   "source": [
    "env.visualize=True\n",
    "env.initialize_renderer()"
   ]
  },
  {
   "cell_type": "code",
   "execution_count": null,
   "id": "7a54fd97-eb3e-4871-99fa-791fbb68bd6a",
   "metadata": {},
   "outputs": [],
   "source": [
    "env.reset()\n",
    "ac = torch.tensor([env.action_space.sample() for _ in range(env.num_envs)],\n",
    "                  device=env.device)\n",
    "obs, r, d, i = env.step(ac)"
   ]
  },
  {
   "cell_type": "code",
   "execution_count": 4,
   "id": "df78d683-123c-41cf-98f7-ca43a4c360dd",
   "metadata": {
    "tags": []
   },
   "outputs": [
    {
     "name": "stdout",
     "output_type": "stream",
     "text": [
      "CPU times: user 1e+03 ns, sys: 1 µs, total: 2 µs\n",
      "Wall time: 3.58 µs\n"
     ]
    },
    {
     "name": "stderr",
     "output_type": "stream",
     "text": [
      "/tmp/ipykernel_634606/3979160350.py:8: UserWarning: Creating a tensor from a list of numpy.ndarrays is extremely slow. Please consider converting the list to a single numpy.ndarray with numpy.array() before converting to a tensor. (Triggered internally at  /opt/conda/conda-bld/pytorch_1646755903507/work/torch/csrc/utils/tensor_new.cpp:210.)\n",
      "  ac = torch.tensor([env.action_space.sample()*0 for _ in range(env.num_envs)],\n"
     ]
    }
   ],
   "source": [
    "%time\n",
    "# if env.render_mode == RenderMode.TINY:\n",
    "#     writer = imageio.get_writer(\"test_render.mp4\", fps=30)\n",
    "# else:\n",
    "#     writer = None\n",
    "env.reset()\n",
    "for _ in range(1000):\n",
    "    ac = torch.tensor([env.action_space.sample()*0 for _ in range(env.num_envs)],\n",
    "                      device=env.device)\n",
    "    obs, r, d, i = env.step(ac)\n",
    "    env.render()\n",
    "    # img = env.render(mode=\"rgb_array\")\n",
    "    # if writer: writer.append_data(img)\n",
    "    if d.sum() > 0: break\n",
    "# if writer: writer.close()"
   ]
  },
  {
   "cell_type": "code",
   "execution_count": null,
   "id": "773d7e4b-035b-4816-9c0a-e99687eb1c6d",
   "metadata": {},
   "outputs": [],
   "source": [
    "env = HopperEnv(num_envs=2, render=True)"
   ]
  },
  {
   "cell_type": "code",
   "execution_count": null,
   "id": "19cb5a41-6ee7-432c-b420-2e45bdfb58ef",
   "metadata": {},
   "outputs": [],
   "source": [
    "obs = env.reset()"
   ]
  },
  {
   "cell_type": "code",
   "execution_count": null,
   "id": "3d23c2f0-a274-4950-81df-de18915f48f0",
   "metadata": {},
   "outputs": [],
   "source": [
    "env.step(torch.zeros((env.num_envs, env.num_acts), device=env.device))\n",
    "img = env.render(mode=\"rgb_array\")\n",
    "\n",
    "plt.close('all')\n",
    "plt.imshow(img)"
   ]
  },
  {
   "cell_type": "code",
   "execution_count": null,
   "id": "03330007-f880-4905-82c2-48e2055d9477",
   "metadata": {},
   "outputs": [],
   "source": [
    "env.state_0.body_q.numpy()"
   ]
  }
 ],
 "metadata": {
  "kernelspec": {
   "display_name": "Python 3 (ipykernel)",
   "language": "python",
   "name": "python3"
  },
  "language_info": {
   "codemirror_mode": {
    "name": "ipython",
    "version": 3
   },
   "file_extension": ".py",
   "mimetype": "text/x-python",
   "name": "python",
   "nbconvert_exporter": "python",
   "pygments_lexer": "ipython3",
   "version": "3.8.13"
  }
 },
 "nbformat": 4,
 "nbformat_minor": 5
}
