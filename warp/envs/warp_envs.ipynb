{
 "cells": [
  {
   "cell_type": "code",
   "execution_count": 2,
   "id": "5e7c1170-b261-40c6-8780-8994a887bc26",
   "metadata": {},
   "outputs": [
    {
     "name": "stdout",
     "output_type": "stream",
     "text": [
      "The autoreload extension is already loaded. To reload it, use:\n",
      "  %reload_ext autoreload\n"
     ]
    }
   ],
   "source": [
    "%load_ext autoreload\n",
    "%autoreload 2\n",
    "\n",
    "DEBUG = False"
   ]
  },
  {
   "cell_type": "code",
   "execution_count": 3,
   "id": "1fd22237-39e1-49be-935c-c3ed815ff047",
   "metadata": {},
   "outputs": [
    {
     "name": "stdout",
     "output_type": "stream",
     "text": [
      "Warp 0.7.2 initialized:\n",
      "   CUDA Toolkit: 11.8, Driver: 11.8\n",
      "   Devices:\n",
      "     \"cpu\"    | x86_64\n",
      "     \"cuda:0\" | NVIDIA GeForce RTX 3090 (sm_86)\n",
      "   Kernel cache: /home/ksrini/.cache/warp/0.7.2\n",
      "Using cached kernels\n"
     ]
    }
   ],
   "source": [
    "%matplotlib widget\n",
    "import matplotlib.pyplot as plt\n",
    "\n",
    "import torch\n",
    "import numpy as np\n",
    "\n",
    "import warp as wp\n",
    "import time\n",
    "import seaborn as sns\n",
    "import imageio\n",
    "\n",
    "if DEBUG:\n",
    "    wp.config.mode = \"debug\"\n",
    "    wp.config.verify_cuda = True\n",
    "    # wp.config.print_launches = True\n",
    "\n",
    "wp.init()\n",
    "\n",
    "from warp.envs.environment import RenderMode\n",
    "from warp.envs.cartpole_swing_up import CartPoleSwingUpEnv\n",
    "from shac.envs.cartpole_swing_up import CartPoleSwingUpEnv as DFCartPoleSwingUpEnv\n",
    "from warp.envs.hopper import HopperEnv\n",
    "from shac.envs.hopper import HopperEnv as DFHopperEnv"
   ]
  },
  {
   "cell_type": "code",
   "execution_count": null,
   "id": "30641856-fd2a-471b-90f8-c651383311e9",
   "metadata": {},
   "outputs": [],
   "source": [
    "env = HopperEnv(num_envs = 2, render=True)"
   ]
  },
  {
   "cell_type": "code",
   "execution_count": null,
   "id": "8fa7cc28-a805-4871-81e7-b82b9f856e01",
   "metadata": {},
   "outputs": [],
   "source": [
    "env = CartPoleSwingUpEnv(num_envs=2, render=False)"
   ]
  },
  {
   "cell_type": "code",
   "execution_count": null,
   "id": "fcad143e-abfc-48de-9f37-3ac4b105eb9a",
   "metadata": {},
   "outputs": [],
   "source": [
    "env_count = 2\n",
    "env_times = []\n",
    "env_size = []\n",
    "\n",
    "for i in range(15):\n",
    "\n",
    "    robot = HopperEnv(num_envs=env_count, render=False, requires_grad=True)\n",
    "    steps_per_second = robot.run()\n",
    "\n",
    "    env_size.append(env_count)\n",
    "    env_times.append(steps_per_second)\n",
    "\n",
    "    env_count *= 2\n",
    "\n",
    "# dump times\n",
    "for i in range(len(env_times)):\n",
    "    print(f\"envs: {env_size[i]} steps/second: {env_times[i]}\")\n",
    "\n",
    "plt.figure(1)\n",
    "plt.plot(env_size, env_times)\n",
    "plt.xscale('log')\n",
    "plt.xlabel(\"Number of Envs\")\n",
    "plt.yscale('log')\n",
    "plt.ylabel(\"Steps/Second\")\n",
    "plt.show()"
   ]
  },
  {
   "cell_type": "code",
   "execution_count": null,
   "id": "408c71cb-3fdb-40aa-a1d4-ab4c1ccc9fcc",
   "metadata": {},
   "outputs": [],
   "source": [
    "env.visualize=True\n",
    "env.initialize_renderer()"
   ]
  },
  {
   "cell_type": "code",
   "execution_count": null,
   "id": "7a54fd97-eb3e-4871-99fa-791fbb68bd6a",
   "metadata": {},
   "outputs": [],
   "source": [
    "env.reset()\n",
    "ac = torch.tensor([env.action_space.sample() for _ in range(env.num_envs)],\n",
    "                  device=env.device)\n",
    "obs, r, d, i = env.step(ac)"
   ]
  },
  {
   "cell_type": "code",
   "execution_count": null,
   "id": "df78d683-123c-41cf-98f7-ca43a4c360dd",
   "metadata": {
    "tags": []
   },
   "outputs": [],
   "source": [
    "%time\n",
    "# if env.render_mode == RenderMode.TINY:\n",
    "#     writer = imageio.get_writer(\"test_render.mp4\", fps=30)\n",
    "# else:\n",
    "#     writer = None\n",
    "env.reset()\n",
    "for _ in range(1000):\n",
    "    ac = torch.tensor([env.action_space.sample()*0 for _ in range(env.num_envs)],\n",
    "                      device=env.device)\n",
    "    obs, r, d, i = env.step(ac)\n",
    "    env.render()\n",
    "    # img = env.render(mode=\"rgb_array\")\n",
    "    # if writer: writer.append_data(img)\n",
    "    if d.sum() > 0: break\n",
    "# if writer: writer.close()"
   ]
  },
  {
   "cell_type": "code",
   "execution_count": null,
   "id": "773d7e4b-035b-4816-9c0a-e99687eb1c6d",
   "metadata": {},
   "outputs": [],
   "source": [
    "env = HopperEnv(num_envs=2, render=True)"
   ]
  },
  {
   "cell_type": "code",
   "execution_count": null,
   "id": "19cb5a41-6ee7-432c-b420-2e45bdfb58ef",
   "metadata": {},
   "outputs": [],
   "source": [
    "obs = env.reset()"
   ]
  },
  {
   "cell_type": "code",
   "execution_count": null,
   "id": "3d23c2f0-a274-4950-81df-de18915f48f0",
   "metadata": {},
   "outputs": [],
   "source": [
    "env.step(torch.zeros((env.num_envs, env.num_acts), device=env.device))\n",
    "img = env.render(mode=\"rgb_array\")\n",
    "\n",
    "plt.close('all')\n",
    "plt.imshow(img)"
   ]
  },
  {
   "cell_type": "code",
   "execution_count": null,
   "id": "03330007-f880-4905-82c2-48e2055d9477",
   "metadata": {},
   "outputs": [],
   "source": [
    "env.state_0.body_q.numpy()"
   ]
  },
  {
   "cell_type": "markdown",
   "id": "dc2f4fa5-0bd2-413b-90d3-444a266c353f",
   "metadata": {},
   "source": [
    "# Randomized Sampling"
   ]
  },
  {
   "cell_type": "code",
   "execution_count": 6,
   "id": "a536e27d-24db-40b6-8417-dfddcf97bfa6",
   "metadata": {},
   "outputs": [],
   "source": [
    "from shac.algorithms.mpc import Policy, Planner"
   ]
  },
  {
   "cell_type": "code",
   "execution_count": 8,
   "id": "29614ab7-19ae-40c7-8ac9-ae4a2d15f321",
   "metadata": {},
   "outputs": [
    {
     "name": "stdout",
     "output_type": "stream",
     "text": [
      "Running with stochastic_init:  False\n"
     ]
    },
    {
     "name": "stderr",
     "output_type": "stream",
     "text": [
      "/home/ksrini/.pyenv/versions/miniconda3-latest/envs/shac/lib/python3.8/site-packages/gym/logger.py:30: UserWarning: \u001b[33mWARN: Box bound precision lowered by casting to float32\u001b[0m\n",
      "  warnings.warn(colorize('%s: %s'%('WARN', msg % args), 'yellow'))\n"
     ]
    }
   ],
   "source": [
    "env = CartPoleSwingUpEnv(num_envs=10, episode_length=30)"
   ]
  },
  {
   "cell_type": "code",
   "execution_count": 10,
   "id": "ee581310-2191-41c0-a8dd-6c756a60969a",
   "metadata": {},
   "outputs": [],
   "source": [
    "p = Policy(num_actions=env.num_actions, horizon=0.5, max_steps=30)\n",
    "plan = Planner(p, env)\n",
    "\n",
    "plan.optimize_policy()"
   ]
  },
  {
   "cell_type": "code",
   "execution_count": 17,
   "id": "bbd33d77-82f0-4ff1-aa21-cde1654c61e3",
   "metadata": {},
   "outputs": [
    {
     "data": {
      "text/plain": [
       "array([[-0.053],\n",
       "       [ 0.065],\n",
       "       [ 0.101],\n",
       "       [-0.066],\n",
       "       [ 0.047],\n",
       "       [ 0.174],\n",
       "       [-0.067],\n",
       "       [ 0.168],\n",
       "       [-0.085],\n",
       "       [ 0.002],\n",
       "       [-0.001],\n",
       "       [ 0.001],\n",
       "       [-0.084],\n",
       "       [-0.059],\n",
       "       [-0.067],\n",
       "       [ 0.033],\n",
       "       [ 0.033],\n",
       "       [ 0.223],\n",
       "       [ 0.137],\n",
       "       [-0.051],\n",
       "       [ 0.032],\n",
       "       [ 0.1  ],\n",
       "       [ 0.003],\n",
       "       [-0.007],\n",
       "       [ 0.005],\n",
       "       [ 0.087],\n",
       "       [-0.085],\n",
       "       [-0.033],\n",
       "       [ 0.047],\n",
       "       [ 0.031]])"
      ]
     },
     "execution_count": 17,
     "metadata": {},
     "output_type": "execute_result"
    }
   ],
   "source": [
    "p.params"
   ]
  },
  {
   "cell_type": "code",
   "execution_count": 19,
   "id": "2137ad34-ef25-4e5c-84a6-85e5ed065b37",
   "metadata": {},
   "outputs": [
    {
     "name": "stdout",
     "output_type": "stream",
     "text": [
      "Running with stochastic_init:  False\n",
      "Initializing renderer writing to path: outputs/test-rs-planner-cartpole\n"
     ]
    },
    {
     "name": "stderr",
     "output_type": "stream",
     "text": [
      "/home/ksrini/.pyenv/versions/miniconda3-latest/envs/shac/lib/python3.8/site-packages/gym/logger.py:30: UserWarning: \u001b[33mWARN: Box bound precision lowered by casting to float32\u001b[0m\n",
      "  warnings.warn(colorize('%s: %s'%('WARN', msg % args), 'yellow'))\n"
     ]
    }
   ],
   "source": [
    "eval_env = CartPoleSwingUpEnv(num_envs=1, episode_length=30, render=True, stage_path=\"test-rs-planner-cartpole\")\n",
    "eval_plan = Planner(p, eval_env)"
   ]
  },
  {
   "cell_type": "code",
   "execution_count": 22,
   "id": "42a79668-040b-4cbd-8e7e-99f846bc4ecd",
   "metadata": {},
   "outputs": [
    {
     "data": {
      "text/plain": [
       "tensor([-377.5608], device='cuda:0')"
      ]
     },
     "execution_count": 22,
     "metadata": {},
     "output_type": "execute_result"
    }
   ],
   "source": [
    "eval_plan.rollout(render=True)"
   ]
  },
  {
   "cell_type": "code",
   "execution_count": null,
   "id": "d258559f-2a61-46d3-b20b-518de07c4eb5",
   "metadata": {},
   "outputs": [],
   "source": [
    "eval_env.calculateObservations()"
   ]
  },
  {
   "cell_type": "code",
   "execution_count": 27,
   "id": "119a2396-06bd-4536-ab85-419627324077",
   "metadata": {},
   "outputs": [
    {
     "data": {
      "text/plain": [
       "tensor([-40.0489], device='cuda:0')"
      ]
     },
     "execution_count": 27,
     "metadata": {},
     "output_type": "execute_result"
    }
   ],
   "source": [
    "eval_env.rew_buf"
   ]
  }
 ],
 "metadata": {
  "kernelspec": {
   "display_name": "Python 3 (ipykernel)",
   "language": "python",
   "name": "python3"
  },
  "language_info": {
   "codemirror_mode": {
    "name": "ipython",
    "version": 3
   },
   "file_extension": ".py",
   "mimetype": "text/x-python",
   "name": "python",
   "nbconvert_exporter": "python",
   "pygments_lexer": "ipython3",
   "version": "3.8.13"
  }
 },
 "nbformat": 4,
 "nbformat_minor": 5
}
