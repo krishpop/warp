{
 "cells": [
  {
   "cell_type": "code",
   "execution_count": null,
   "id": "4e184d80-4221-449e-83a0-baa5733f21c0",
   "metadata": {},
   "outputs": [],
   "source": [
    "%pdb on"
   ]
  },
  {
   "cell_type": "code",
   "execution_count": 1,
   "id": "66f7b8aa-d0e8-4b24-8391-f1c7d8cfdb42",
   "metadata": {},
   "outputs": [],
   "source": [
    "%load_ext autoreload\n",
    "%autoreload 2"
   ]
  },
  {
   "cell_type": "code",
   "execution_count": 2,
   "id": "1fd22237-39e1-49be-935c-c3ed815ff047",
   "metadata": {},
   "outputs": [
    {
     "name": "stdout",
     "output_type": "stream",
     "text": [
      "Warp 0.7.2 initialized:\n",
      "   CUDA Toolkit: 11.8, Driver: 11.8\n",
      "   Devices:\n",
      "     \"cpu\"    | x86_64\n",
      "     \"cuda:0\" | NVIDIA GeForce RTX 3090 (sm_86)\n",
      "   Kernel cache: /home/ksrini/.cache/warp/0.7.2\n"
     ]
    }
   ],
   "source": [
    "%matplotlib widget\n",
    "import matplotlib.pyplot as plt\n",
    "\n",
    "import torch\n",
    "import numpy as np\n",
    "import warp as wp\n",
    "import time\n",
    "wp.config.mode = \"debug\"\n",
    "import seaborn as sns\n",
    "\n",
    "wp.init()\n",
    "from warp.envs.cartpole_swing_up import CartPoleSwingUpEnv\n",
    "from warp.envs.hopper import HopperEnv"
   ]
  },
  {
   "cell_type": "code",
   "execution_count": 3,
   "id": "dbce40f9-6ac1-4e6c-9638-d417d43a6f8b",
   "metadata": {},
   "outputs": [
    {
     "name": "stdout",
     "output_type": "stream",
     "text": [
      "Running with stochastic_init:  False\n"
     ]
    },
    {
     "name": "stderr",
     "output_type": "stream",
     "text": [
      "/home/ksrini/.pyenv/versions/miniconda3-latest/envs/shac/lib/python3.8/site-packages/gym/logger.py:30: UserWarning: \u001b[33mWARN: Box bound precision lowered by casting to float32\u001b[0m\n",
      "  warnings.warn(colorize('%s: %s'%('WARN', msg % args), 'yellow'))\n"
     ]
    },
    {
     "name": "stdout",
     "output_type": "stream",
     "text": [
      "Module warp.sim.collide load on device 'cuda:0' took 65.95 ms\n",
      "Initializing renderer writing to path: outputs/CartPoleSwingUpEnv_1\n",
      "X11 functions dynamically loaded using dlopen/dlsym OK!\n",
      "X11 functions dynamically loaded using dlopen/dlsym OK!\n",
      "Creating context\n",
      "Created GL 3.3 context\n",
      "Direct GLX rendering context obtained\n",
      "Making context current\n",
      "GL_VENDOR=Mesa/X.org\n",
      "GL_RENDERER=llvmpipe (LLVM 12.0.0, 256 bits)\n",
      "GL_VERSION=4.5 (Core Profile) Mesa 21.2.6\n",
      "GL_SHADING_LANGUAGE_VERSION=4.50\n",
      "pthread_getconcurrency()=0\n",
      "Version = 4.5 (Core Profile) Mesa 21.2.6\n",
      "Vendor = Mesa/X.org\n",
      "Renderer = llvmpipe (LLVM 12.0.0, 256 bits)\n",
      "Control commands for the TinyRenderer window:\n",
      "  [Space]                                   pause simulation\n",
      "  [S]                                       skip rendering\n",
      "  [Alt] + mouse drag (left/middle button)   rotate/pan camera\n",
      "  [ESC]                                     exit\n"
     ]
    }
   ],
   "source": [
    "env = CartPoleSwingUpEnv(num_envs=1, render=False)"
   ]
  },
  {
   "cell_type": "code",
   "execution_count": 4,
   "id": "b467cf12-9047-416a-abf6-173634dd3171",
   "metadata": {},
   "outputs": [
    {
     "name": "stdout",
     "output_type": "stream",
     "text": [
      "Module warp.sim.articulation load on device 'cuda:0' took 26.34 ms\n"
     ]
    },
    {
     "data": {
      "text/plain": [
       "tensor([[0., 0., 0., 1., 0.]], device='cuda:0')"
      ]
     },
     "execution_count": 4,
     "metadata": {},
     "output_type": "execute_result"
    }
   ],
   "source": [
    "env.reset()"
   ]
  },
  {
   "cell_type": "code",
   "execution_count": 5,
   "id": "ffb34bee-8f70-4e78-b8ea-c0f322084ac8",
   "metadata": {},
   "outputs": [],
   "source": [
    "env.visualize=True"
   ]
  },
  {
   "cell_type": "code",
   "execution_count": 6,
   "id": "7ab9f181-f3be-47a7-82b1-e17d2df65828",
   "metadata": {},
   "outputs": [],
   "source": [
    "wp.sim.eval_fk(env.model, env.model.joint_q, env.model.joint_qd, None, env.state_0)"
   ]
  },
  {
   "cell_type": "code",
   "execution_count": 11,
   "id": "fc7e5e1a-aac9-4c93-85a7-634e7b00fbc5",
   "metadata": {},
   "outputs": [
    {
     "ename": "RuntimeError",
     "evalue": "CUDA error: an illegal memory access was encountered\nCUDA kernel errors might be asynchronously reported at some other API call,so the stacktrace below might be incorrect.\nFor debugging consider passing CUDA_LAUNCH_BLOCKING=1.",
     "output_type": "error",
     "traceback": [
      "\u001b[0;31m---------------------------------------------------------------------------\u001b[0m",
      "\u001b[0;31mRuntimeError\u001b[0m                              Traceback (most recent call last)",
      "Input \u001b[0;32mIn [11]\u001b[0m, in \u001b[0;36m<cell line: 2>\u001b[0;34m()\u001b[0m\n\u001b[1;32m      1\u001b[0m \u001b[38;5;66;03m# while True:\u001b[39;00m\n\u001b[0;32m----> 2\u001b[0m ac \u001b[38;5;241m=\u001b[39m \u001b[43mtorch\u001b[49m\u001b[38;5;241;43m.\u001b[39;49m\u001b[43mtensor\u001b[49m\u001b[43m(\u001b[49m\u001b[43menv\u001b[49m\u001b[38;5;241;43m.\u001b[39;49m\u001b[43maction_space\u001b[49m\u001b[38;5;241;43m.\u001b[39;49m\u001b[43msample\u001b[49m\u001b[43m(\u001b[49m\u001b[43m)\u001b[49m\u001b[43m,\u001b[49m\u001b[43m \u001b[49m\u001b[43mdevice\u001b[49m\u001b[38;5;241;43m=\u001b[39;49m\u001b[43menv\u001b[49m\u001b[38;5;241;43m.\u001b[39;49m\u001b[43mdevice\u001b[49m\u001b[43m)\u001b[49m\n\u001b[1;32m      3\u001b[0m obs, r, d, i \u001b[38;5;241m=\u001b[39m env\u001b[38;5;241m.\u001b[39mstep(ac)\n\u001b[1;32m      4\u001b[0m env\u001b[38;5;241m.\u001b[39mrender()\n",
      "\u001b[0;31mRuntimeError\u001b[0m: CUDA error: an illegal memory access was encountered\nCUDA kernel errors might be asynchronously reported at some other API call,so the stacktrace below might be incorrect.\nFor debugging consider passing CUDA_LAUNCH_BLOCKING=1."
     ]
    }
   ],
   "source": [
    "# while True:\n",
    "ac = torch.tensor(env.action_space.sample(), device=env.device)\n",
    "obs, r, d, i = env.step(ac)\n",
    "env.render()\n"
   ]
  },
  {
   "cell_type": "code",
   "execution_count": null,
   "id": "773d7e4b-035b-4816-9c0a-e99687eb1c6d",
   "metadata": {},
   "outputs": [],
   "source": [
    "env = HopperEnv(num_envs=2, render=True)"
   ]
  },
  {
   "cell_type": "code",
   "execution_count": null,
   "id": "19cb5a41-6ee7-432c-b420-2e45bdfb58ef",
   "metadata": {},
   "outputs": [],
   "source": [
    "obs = env.reset()"
   ]
  },
  {
   "cell_type": "code",
   "execution_count": null,
   "id": "3d23c2f0-a274-4950-81df-de18915f48f0",
   "metadata": {},
   "outputs": [],
   "source": [
    "env.step(torch.zeros((env.num_envs, env.num_acts), device=env.device))\n",
    "img = env.render(mode=\"rgb_array\")\n",
    "\n",
    "plt.close('all')\n",
    "plt.imshow(img)"
   ]
  },
  {
   "cell_type": "code",
   "execution_count": null,
   "id": "03330007-f880-4905-82c2-48e2055d9477",
   "metadata": {},
   "outputs": [],
   "source": [
    "env.state_0.body_q.numpy()"
   ]
  }
 ],
 "metadata": {
  "kernelspec": {
   "display_name": "Python 3 (ipykernel)",
   "language": "python",
   "name": "python3"
  },
  "language_info": {
   "codemirror_mode": {
    "name": "ipython",
    "version": 3
   },
   "file_extension": ".py",
   "mimetype": "text/x-python",
   "name": "python",
   "nbconvert_exporter": "python",
   "pygments_lexer": "ipython3",
   "version": "3.8.13"
  }
 },
 "nbformat": 4,
 "nbformat_minor": 5
}
