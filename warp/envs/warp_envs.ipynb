{
 "cells": [
  {
   "cell_type": "code",
   "execution_count": 4,
   "id": "66f7b8aa-d0e8-4b24-8391-f1c7d8cfdb42",
   "metadata": {},
   "outputs": [],
   "source": [
    "%load_ext autoreload\n",
    "%autoreload 2"
   ]
  },
  {
   "cell_type": "code",
   "execution_count": 5,
   "id": "1fd22237-39e1-49be-935c-c3ed815ff047",
   "metadata": {},
   "outputs": [],
   "source": [
    "%matplotlib widget\n",
    "import matplotlib.pyplot as plt\n",
    "\n",
    "import torch\n",
    "import numpy as np\n",
    "\n",
    "import warp as wp\n",
    "import time\n",
    "import imageio\n",
    "# wp.config.mode = \"debug\"\n",
    "# wp.config.verify_cuda = True\n",
    "import seaborn as sns\n",
    "\n",
    "wp.init()\n",
    "from warp.envs.environment import RenderMode\n",
    "from warp.envs.cartpole_swing_up import CartPoleSwingUpEnv\n",
    "from warp.envs.hopper import HopperEnv\n",
    "from shac.envs.hopper import HopperEnv as DFHopperEnv"
   ]
  },
  {
   "cell_type": "code",
   "execution_count": 2,
   "id": "30641856-fd2a-471b-90f8-c651383311e9",
   "metadata": {},
   "outputs": [
    {
     "name": "stdout",
     "output_type": "stream",
     "text": [
      "Running with stochastic_init:  False\n"
     ]
    },
    {
     "name": "stderr",
     "output_type": "stream",
     "text": [
      "/home/ksrini/.pyenv/versions/miniconda3-latest/envs/shac/lib/python3.8/site-packages/gym/logger.py:30: UserWarning: \u001b[33mWARN: Box bound precision lowered by casting to float32\u001b[0m\n",
      "  warnings.warn(colorize('%s: %s'%('WARN', msg % args), 'yellow'))\n"
     ]
    },
    {
     "name": "stdout",
     "output_type": "stream",
     "text": [
      "Module warp.sim.collide load on device 'cuda:0' took 62.44 ms\n",
      "Initializing renderer writing to path: outputs/HopperEnv_2\n"
     ]
    }
   ],
   "source": [
    "env = HopperEnv(num_envs = 2, render=True)"
   ]
  },
  {
   "cell_type": "code",
   "execution_count": null,
   "id": "8fa7cc28-a805-4871-81e7-b82b9f856e01",
   "metadata": {},
   "outputs": [],
   "source": [
    "env = CartPoleSwingUpEnv(num_envs=2, render=False)"
   ]
  },
  {
   "cell_type": "code",
   "execution_count": null,
   "id": "fcad143e-abfc-48de-9f37-3ac4b105eb9a",
   "metadata": {},
   "outputs": [],
   "source": [
    "env_count = 2\n",
    "env_times = []\n",
    "env_size = []\n",
    "\n",
    "for i in range(15):\n",
    "\n",
    "    robot = HopperEnv(num_envs=env_count, render=False)\n",
    "    steps_per_second = robot.run()\n",
    "\n",
    "    env_size.append(env_count)\n",
    "    env_times.append(steps_per_second)\n",
    "\n",
    "    env_count *= 2\n",
    "\n",
    "# dump times\n",
    "for i in range(len(env_times)):\n",
    "    print(f\"envs: {env_size[i]} steps/second: {env_times[i]}\")\n",
    "\n",
    "plt.figure(1)\n",
    "plt.plot(env_size, env_times)\n",
    "plt.xscale('log')\n",
    "plt.xlabel(\"Number of Envs\")\n",
    "plt.yscale('log')\n",
    "plt.ylabel(\"Steps/Second\")\n",
    "plt.show()"
   ]
  },
  {
   "cell_type": "code",
   "execution_count": null,
   "id": "408c71cb-3fdb-40aa-a1d4-ab4c1ccc9fcc",
   "metadata": {},
   "outputs": [],
   "source": [
    "env.visualize=True\n",
    "env.initialize_renderer()"
   ]
  },
  {
   "cell_type": "code",
   "execution_count": null,
   "id": "7a54fd97-eb3e-4871-99fa-791fbb68bd6a",
   "metadata": {},
   "outputs": [],
   "source": [
    "env.reset()\n",
    "ac = torch.tensor([env.action_space.sample() for _ in range(env.num_envs)],\n",
    "                  device=env.device)\n",
    "obs, r, d, i = env.step(ac)"
   ]
  },
  {
   "cell_type": "code",
   "execution_count": 3,
   "id": "df78d683-123c-41cf-98f7-ca43a4c360dd",
   "metadata": {
    "tags": []
   },
   "outputs": [
    {
     "name": "stdout",
     "output_type": "stream",
     "text": [
      "CPU times: user 1 µs, sys: 1 µs, total: 2 µs\n",
      "Wall time: 2.86 µs\n",
      "Module warp.sim.articulation load on device 'cuda:0' took 24.49 ms\n",
      "Module warp.render.utils load on device 'cuda:0' took 2.97 ms\n",
      "Module warp.sim.inertia load on device 'cuda:0' took 5.91 ms\n",
      "Module warp.sim.model load on device 'cuda:0' took 1.55 ms\n",
      "Module warp.sim.optimizer load on device 'cuda:0' took 1.49 ms\n",
      "Module warp.sim.particles load on device 'cuda:0' took 2.28 ms\n",
      "Module warp.sim.utils load on device 'cuda:0' took 7.73 ms\n",
      "Module warp.sim.integrator_euler load on device 'cuda:0' took 44.42 ms\n",
      "Module warp.sim.integrator_xpbd load on device 'cuda:0' took 65.92 ms\n",
      "Module warp.render.render_tiny load on device 'cuda:0' took 6.19 ms\n",
      "Module warp.sim.render load on device 'cuda:0' took 1.63 ms\n",
      "Module warp.sim.tiny_render load on device 'cuda:0' took 1.11 ms\n",
      "Module warp.envs.autograd_utils load on device 'cuda:0' took 0.46 ms\n",
      "Module warp.optim.adam load on device 'cuda:0' took 3.07 ms\n"
     ]
    },
    {
     "name": "stderr",
     "output_type": "stream",
     "text": [
      "/tmp/ipykernel_665869/3979160350.py:8: UserWarning: Creating a tensor from a list of numpy.ndarrays is extremely slow. Please consider converting the list to a single numpy.ndarray with numpy.array() before converting to a tensor. (Triggered internally at  /opt/conda/conda-bld/pytorch_1646755903507/work/torch/csrc/utils/tensor_new.cpp:210.)\n",
      "  ac = torch.tensor([env.action_space.sample()*0 for _ in range(env.num_envs)],\n"
     ]
    },
    {
     "name": "stdout",
     "output_type": "stream",
     "text": [
      "Module dmanip.utils.warp_utils load on device 'cuda:0' took 32.60 ms\n",
      "Module utils.warp_utils load on device 'cuda:0' took 4.02 ms\n"
     ]
    }
   ],
   "source": [
    "%time\n",
    "# if env.render_mode == RenderMode.TINY:\n",
    "#     writer = imageio.get_writer(\"test_render.mp4\", fps=30)\n",
    "# else:\n",
    "#     writer = None\n",
    "env.reset()\n",
    "for _ in range(1000):\n",
    "    ac = torch.tensor([env.action_space.sample()*0 for _ in range(env.num_envs)],\n",
    "                      device=env.device)\n",
    "    obs, r, d, i = env.step(ac)\n",
    "    env.render()\n",
    "    # img = env.render(mode=\"rgb_array\")\n",
    "    # if writer: writer.append_data(img)\n",
    "    if d.sum() > 0: break\n",
    "# if writer: writer.close()"
   ]
  },
  {
   "cell_type": "code",
   "execution_count": null,
   "id": "773d7e4b-035b-4816-9c0a-e99687eb1c6d",
   "metadata": {},
   "outputs": [],
   "source": [
    "env = HopperEnv(num_envs=2, render=True)"
   ]
  },
  {
   "cell_type": "code",
   "execution_count": null,
   "id": "19cb5a41-6ee7-432c-b420-2e45bdfb58ef",
   "metadata": {},
   "outputs": [],
   "source": [
    "obs = env.reset()"
   ]
  },
  {
   "cell_type": "code",
   "execution_count": null,
   "id": "3d23c2f0-a274-4950-81df-de18915f48f0",
   "metadata": {},
   "outputs": [],
   "source": [
    "env.step(torch.zeros((env.num_envs, env.num_acts), device=env.device))\n",
    "img = env.render(mode=\"rgb_array\")\n",
    "\n",
    "plt.close('all')\n",
    "plt.imshow(img)"
   ]
  },
  {
   "cell_type": "code",
   "execution_count": null,
   "id": "03330007-f880-4905-82c2-48e2055d9477",
   "metadata": {},
   "outputs": [],
   "source": [
    "env.state_0.body_q.numpy()"
   ]
  }
 ],
 "metadata": {
  "kernelspec": {
   "display_name": "Python 3 (ipykernel)",
   "language": "python",
   "name": "python3"
  },
  "language_info": {
   "codemirror_mode": {
    "name": "ipython",
    "version": 3
   },
   "file_extension": ".py",
   "mimetype": "text/x-python",
   "name": "python",
   "nbconvert_exporter": "python",
   "pygments_lexer": "ipython3",
   "version": "3.8.13"
  }
 },
 "nbformat": 4,
 "nbformat_minor": 5
}
